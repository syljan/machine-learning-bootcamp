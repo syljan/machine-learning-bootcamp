{
  "nbformat": 4,
  "nbformat_minor": 0,
  "metadata": {
    "colab": {
      "name": "Untitled0.ipynb",
      "provenance": [],
      "toc_visible": true,
      "authorship_tag": "ABX9TyNvXxaJsbhX4elZg2a/7zW6",
      "include_colab_link": true
    },
    "kernelspec": {
      "name": "python3",
      "display_name": "Python 3"
    },
    "language_info": {
      "name": "python"
    }
  },
  "cells": [
    {
      "cell_type": "markdown",
      "metadata": {
        "id": "view-in-github",
        "colab_type": "text"
      },
      "source": [
        "<a href=\"https://colab.research.google.com/github/syljan/machine-learning-bootcamp/blob/main/Check_iban.ipynb\" target=\"_parent\"><img src=\"https://colab.research.google.com/assets/colab-badge.svg\" alt=\"Open In Colab\"/></a>"
      ]
    },
    {
      "cell_type": "code",
      "execution_count": 1,
      "metadata": {
        "colab": {
          "base_uri": "https://localhost:8080/"
        },
        "id": "7duC1_mJSwbS",
        "outputId": "8936c53f-4295-42da-accc-091791e75260"
      },
      "outputs": [
        {
          "output_type": "stream",
          "name": "stdout",
          "text": [
            "IBAN ok!\n",
            "\n"
          ]
        }
      ],
      "source": [
        "import string\n",
        "LETTERS = {ord(d): str(i) for i, d in enumerate(string.digits + string.ascii_uppercase)}\n",
        "\n",
        "\n",
        "def _number_iban(iban):\n",
        "    return (iban[4:] + iban[:4]).translate(LETTERS)\n",
        "\n",
        "\n",
        "def generate_iban_check_digits(iban):\n",
        "    number_iban = _number_iban(iban[:2] + '00' + iban[4:])\n",
        "    return '{:0>2}'.format(98 - (int(number_iban) % 97))\n",
        "\n",
        "\n",
        "def valid_iban(iban):\n",
        "    return int(_number_iban(iban)) % 97 == 1\n",
        "\n",
        "\n",
        "if __name__ == '__main__':\n",
        "    my_iban = 'DE75512108001245126199'\n",
        "    if generate_iban_check_digits(my_iban) == my_iban[2:4] and valid_iban(my_iban):\n",
        "        print('IBAN ok!\\n')\n",
        "    else:\n",
        "        print('IBAN not ok!\\n')"
      ]
    },
    {
      "cell_type": "code",
      "source": [
        "!pip install PyQt5.QtWidgets"
      ],
      "metadata": {
        "id": "otZe7kNbTLuT",
        "colab": {
          "base_uri": "https://localhost:8080/"
        },
        "outputId": "05fc55ff-c3f6-4b0e-ea61-86e00ca57d3e"
      },
      "execution_count": 1,
      "outputs": [
        {
          "output_type": "stream",
          "name": "stdout",
          "text": [
            "\u001b[31mERROR: Could not find a version that satisfies the requirement PyQt5.QtWidgets (from versions: none)\u001b[0m\n",
            "\u001b[31mERROR: No matching distribution found for PyQt5.QtWidgets\u001b[0m\n"
          ]
        }
      ]
    },
    {
      "cell_type": "markdown",
      "source": [
        "# Nowa sekcja"
      ],
      "metadata": {
        "id": "afUNCDZLT9rw"
      }
    }
  ]
}